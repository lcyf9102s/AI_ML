{
 "cells": [
  {
   "cell_type": "code",
   "execution_count": 1,
   "id": "d86f6922",
   "metadata": {},
   "outputs": [],
   "source": [
    "from IPython.core.interactiveshell import InteractiveShell\n",
    "InteractiveShell.ast_node_interactivity = \"all\""
   ]
  },
  {
   "cell_type": "markdown",
   "id": "284492dc",
   "metadata": {},
   "source": [
    "### 导入相关第三方库"
   ]
  },
  {
   "cell_type": "code",
   "execution_count": 2,
   "id": "09dfa86f",
   "metadata": {},
   "outputs": [],
   "source": [
    "import numpy as np\n",
    "from random import *\n",
    "import matplotlib.pyplot as plt"
   ]
  },
  {
   "cell_type": "markdown",
   "id": "a917bd27",
   "metadata": {},
   "source": [
    "###  在直线y=2.44x+5.36周围生成一组10个数据的数据集\n",
    "#### 直线方程上加一个高斯扰动"
   ]
  },
  {
   "cell_type": "code",
   "execution_count": 3,
   "id": "a576eedd",
   "metadata": {},
   "outputs": [
    {
     "data": {
      "text/plain": [
       "500"
      ]
     },
     "execution_count": 3,
     "metadata": {},
     "output_type": "execute_result"
    },
    {
     "data": {
      "text/plain": [
       "array([1.20147882e+01, 8.62398980e+00, 6.07147051e+00, 1.36357913e+01,\n",
       "       1.92141074e+01, 1.61261837e+01, 1.29179057e+01, 1.12414086e+01,\n",
       "       1.58340403e+01, 6.80027380e+00, 1.67733845e+01, 1.38477821e+01,\n",
       "       1.43316740e+01, 1.69038111e+01, 8.37320030e+00, 1.99007206e+01,\n",
       "       8.44230259e+00, 6.01762688e+00, 1.52887049e+01, 2.62781687e+00,\n",
       "       1.59924639e+01, 1.11168275e+01, 1.79092030e+01, 9.71156307e+00,\n",
       "       2.27006956e+00, 1.47265525e+01, 8.60317316e+00, 1.02300487e+01,\n",
       "       1.08286884e+01, 4.59087091e+00, 1.17484130e+01, 1.38943221e+01,\n",
       "       1.79802980e+01, 2.61013336e+00, 2.53470945e+00, 1.01070581e+01,\n",
       "       9.17234486e+00, 1.14181743e+01, 1.03409724e-01, 6.36035273e+00,\n",
       "       1.31828066e+01, 1.14391149e+01, 1.50009044e+01, 4.83363243e+00,\n",
       "       1.46405270e+01, 1.96220813e+01, 1.13109719e+01, 8.74563932e+00,\n",
       "       1.79158419e+01, 1.56900451e+01, 5.92280021e+00, 2.90056591e+00,\n",
       "       1.12235850e+01, 1.69923197e+01, 1.93712860e+01, 1.92161548e+01,\n",
       "       5.67689665e-01, 1.86681971e+01, 9.49366905e+00, 7.79361731e+00,\n",
       "       1.77261906e+01, 1.24211095e+01, 1.11055444e+01, 1.73254263e+01,\n",
       "       1.17723210e+01, 9.34198056e+00, 1.11967121e+01, 8.56143105e+00,\n",
       "       1.10957627e+01, 5.83543132e+00, 9.15303481e+00, 1.22263133e+01,\n",
       "       2.46091773e+00, 1.21620890e+01, 1.10969401e+01, 6.09598851e+00,\n",
       "       1.14621972e+01, 1.93895091e+01, 1.59974686e+01, 1.41900667e+01,\n",
       "       1.77822234e+01, 5.37273458e+00, 2.73373961e+00, 7.18391518e+00,\n",
       "       1.60119685e+01, 1.30033362e+01, 1.06512127e+01, 1.50835870e+01,\n",
       "       6.78661630e+00, 1.76132098e+01, 9.18396713e+00, 1.92861570e+01,\n",
       "       1.37092096e+01, 3.05975529e+00, 1.84209688e+01, 1.81084796e+01,\n",
       "       2.68790657e+00, 5.06297077e+00, 1.59762998e+01, 5.02396594e+00,\n",
       "       7.28138193e+00, 1.02017275e+01, 1.36470012e+01, 2.61640760e+00,\n",
       "       4.79460084e+00, 1.39370966e+01, 2.14990364e+00, 1.47717491e+01,\n",
       "       9.44720511e-01, 6.87765091e-01, 7.88310962e+00, 1.60796609e+01,\n",
       "       1.90012189e+01, 5.87213052e+00, 1.98599399e+01, 6.30413859e+00,\n",
       "       1.42654732e+01, 8.25581248e-01, 4.61282993e+00, 2.61822629e+00,\n",
       "       7.02123677e+00, 2.75384870e+00, 9.51402481e+00, 5.66941518e+00,\n",
       "       1.30063593e+01, 1.85952744e+01, 5.54886261e+00, 5.60745233e+00,\n",
       "       6.82506912e+00, 1.30035511e+01, 1.70316344e+01, 1.23310798e+01,\n",
       "       1.71742659e+01, 4.50385396e+00, 1.40183750e+01, 7.10873852e-01,\n",
       "       8.59642745e+00, 5.68083911e+00, 1.58658322e+01, 2.40210016e+00,\n",
       "       1.91629809e+01, 5.79455782e-01, 1.25355227e+01, 1.99939999e+01,\n",
       "       1.58240111e+01, 1.70986831e+01, 5.41121816e+00, 1.60545818e+01,\n",
       "       1.71922258e+01, 4.44712709e+00, 1.02300233e+01, 1.20487496e+01,\n",
       "       1.05512430e+01, 1.01685804e+01, 8.75111846e+00, 1.61516043e+01,\n",
       "       1.64299350e+01, 1.33194121e+01, 1.99484856e+01, 9.78709719e+00,\n",
       "       1.24635189e-02, 8.94557322e+00, 8.89854813e+00, 1.31890874e+01,\n",
       "       4.21661956e+00, 9.18429313e+00, 1.07112118e+01, 3.21767395e+00,\n",
       "       1.34680174e+01, 8.38923327e+00, 4.02713325e+00, 2.01935525e+00,\n",
       "       2.62330763e+00, 2.92958823e+00, 1.55924928e+01, 1.96140727e+01,\n",
       "       1.92725484e+01, 8.45360544e+00, 1.77703386e+01, 5.74745021e+00,\n",
       "       1.05742124e+01, 1.89452559e+01, 1.46822545e+01, 1.76905511e+01,\n",
       "       1.42645831e+01, 1.84028707e+01, 6.23387372e+00, 1.89041204e+01,\n",
       "       3.62199329e+00, 8.38791826e+00, 7.45709805e+00, 1.24497748e+01,\n",
       "       1.27945788e-01, 7.79780783e+00, 1.81462468e+01, 6.56952039e+00,\n",
       "       6.98788138e+00, 5.04416898e+00, 9.72464975e+00, 3.41694810e+00,\n",
       "       1.52415936e+01, 1.83238318e+01, 9.51495872e-01, 1.15026042e+01,\n",
       "       1.20889401e+01, 1.40358877e+01, 8.79637859e+00, 1.03121375e+01,\n",
       "       3.06264692e+00, 1.68531876e+01, 9.97664781e+00, 1.66608912e+01,\n",
       "       1.61583315e+01, 3.68499790e+00, 1.48302751e+01, 1.41841644e+01,\n",
       "       1.15099356e+01, 5.83290672e+00, 1.00871020e+01, 5.13420713e+00,\n",
       "       1.04006991e+00, 1.02869705e+01, 8.35194575e+00, 1.77829018e+01,\n",
       "       3.71971648e+00, 1.16211709e+01, 1.76531928e+01, 6.06682422e-01,\n",
       "       1.10366572e+01, 4.64787484e+00, 5.97579427e+00, 1.62535007e+01,\n",
       "       1.36839099e+01, 4.41280819e+00, 1.57952575e+01, 3.32755041e+00,\n",
       "       1.73190113e+01, 1.02302063e+01, 1.39181277e+01, 1.86222364e+00,\n",
       "       7.06028878e+00, 4.93003785e+00, 4.84363454e+00, 9.13598464e+00,\n",
       "       1.03660109e+01, 1.69354444e+01, 6.43222778e+00, 1.92768354e+01,\n",
       "       2.40615111e+00, 5.18464745e+00, 1.82067879e+01, 4.61438322e+00,\n",
       "       1.14258246e+01, 1.54058812e+01, 1.52417160e+01, 1.26854579e+01,\n",
       "       1.46933989e+01, 1.37500297e+01, 1.88677862e+01, 5.82424550e+00,\n",
       "       1.08369305e+01, 8.43566164e+00, 1.18594866e+01, 1.03895804e+01,\n",
       "       2.09591377e+00, 1.72751410e+01, 2.87037650e+00, 1.23603723e+01,\n",
       "       1.52747782e+01, 7.42381619e+00, 1.43502536e+01, 3.12978840e+00,\n",
       "       8.44945255e+00, 3.18901223e+00, 1.36209581e+01, 7.26139481e+00,\n",
       "       1.41231227e+01, 1.93691196e+01, 3.93075454e-01, 1.81408699e+01,\n",
       "       1.62098941e+01, 7.06830463e+00, 1.12610468e+01, 1.88557221e+01,\n",
       "       3.23495597e-01, 6.48892429e+00, 2.03690537e-01, 7.40560228e-01,\n",
       "       1.07431746e+01, 8.55593530e+00, 1.70774789e-01, 1.42335924e+01,\n",
       "       1.15035192e+01, 5.58131896e+00, 1.85333698e+01, 1.30713080e+01,\n",
       "       1.45323836e+01, 1.36427610e+01, 5.38551579e+00, 1.79963303e+01,\n",
       "       1.90398080e+01, 7.47865376e+00, 1.14128579e+01, 5.80209377e+00,\n",
       "       7.46450694e+00, 2.48385155e+00, 6.40621223e+00, 1.96319031e+01,\n",
       "       4.73620878e+00, 9.57542590e+00, 1.27877507e+01, 1.09271027e+00,\n",
       "       1.12360786e+01, 1.89328487e+01, 1.00019650e+01, 1.56870670e+01,\n",
       "       1.64753024e+01, 1.42142725e+01, 7.03038409e-01, 5.12314474e+00,\n",
       "       1.69545475e+01, 3.22934614e+00, 1.66377616e+01, 1.87946228e+01,\n",
       "       9.34660350e+00, 1.46537511e+01, 9.88042613e+00, 5.22109277e+00,\n",
       "       6.55295529e+00, 1.81900869e+01, 1.41301874e+01, 3.98418785e+00,\n",
       "       1.53531852e+01, 1.46506307e+01, 6.75022302e+00, 1.30167216e+01,\n",
       "       2.73176647e+00, 1.97670883e+00, 1.57315515e+01, 1.34376756e+01,\n",
       "       7.44974628e+00, 1.27111693e+01, 6.74626420e+00, 1.90795580e+01,\n",
       "       2.01198495e+00, 5.43505317e+00, 1.41165109e+01, 1.35573933e+01,\n",
       "       1.20751544e+01, 1.51390252e+01, 1.75929363e+01, 1.33499891e+01,\n",
       "       2.35443148e-01, 1.28843158e+00, 1.50965119e+01, 1.71398906e+00,\n",
       "       1.31116252e+01, 2.97301090e+00, 6.18955389e-01, 1.09600253e+01,\n",
       "       1.10089490e+01, 1.76200906e+01, 6.98377252e-01, 1.54166070e+01,\n",
       "       4.73605000e+00, 1.91598064e+01, 8.46999093e+00, 1.62996288e+01,\n",
       "       5.70526772e+00, 1.75907427e+01, 1.65057361e+00, 8.87997266e+00,\n",
       "       1.01737744e+01, 1.83568462e+01, 1.31507981e+01, 1.74154379e+00,\n",
       "       5.57514514e+00, 1.23326925e+01, 1.12579411e+00, 6.15238653e+00,\n",
       "       1.54562021e+01, 9.91201902e+00, 7.09956885e-01, 4.51226769e+00,\n",
       "       4.03047604e+00, 1.91124873e+01, 1.29581412e+01, 1.96071258e+01,\n",
       "       1.79113450e+01, 2.62215320e+00, 1.77884020e+01, 7.46518567e+00,\n",
       "       3.88450028e+00, 6.90270687e+00, 1.60896556e+01, 8.23984354e-01,\n",
       "       9.47632492e-01, 9.75531755e+00, 1.37350318e+01, 9.51687424e+00,\n",
       "       1.20106145e+01, 6.63498150e+00, 1.36991886e-01, 7.62759217e+00,\n",
       "       1.85717759e+01, 1.89946601e+01, 1.08763340e+01, 1.01507128e+01,\n",
       "       6.43906862e+00, 6.79540133e+00, 4.30572188e+00, 1.59964382e+01,\n",
       "       5.60100990e+00, 1.42665898e+01, 5.83419540e+00, 9.63773526e+00,\n",
       "       1.36312115e+01, 1.16313093e+01, 1.84731842e+01, 1.29205231e+01,\n",
       "       9.75376691e+00, 1.40750395e+01, 1.38210258e+01, 1.65434805e+01,\n",
       "       1.63832867e+01, 9.42091792e+00, 1.33778163e+01, 1.19789962e+01,\n",
       "       6.09418679e+00, 1.11810292e+01, 3.58418235e+00, 1.69413444e+01,\n",
       "       1.77943119e+00, 1.80648756e+01, 1.91090048e+00, 7.31260285e+00,\n",
       "       9.64507914e-01, 7.62147535e+00, 1.08434611e+01, 1.37094307e+01,\n",
       "       1.71510105e+01, 4.49086185e+00, 1.15585597e+01, 1.01083278e+01,\n",
       "       1.41350897e+01, 4.17793946e+00, 1.02430542e+01, 5.77142426e-01,\n",
       "       1.89698860e+01, 1.81750366e+01, 3.98572402e+00, 2.95915611e+00,\n",
       "       1.75678925e+01, 1.17630929e+01, 1.38185918e+01, 9.70812257e+00,\n",
       "       6.57609659e+00, 4.33385476e+00, 1.64637050e+01, 8.99604665e+00,\n",
       "       1.09904084e+01, 1.30167173e+01, 1.95431785e+01, 4.42240081e+00,\n",
       "       4.77223074e+00, 1.97767070e+01, 1.46634875e+01, 1.56732163e+01,\n",
       "       9.44548612e+00, 1.87268839e+01, 1.92117466e+01, 1.42130759e+01,\n",
       "       3.19436165e+00, 7.29540937e-01, 1.25538644e+01, 3.45130726e+00,\n",
       "       1.04705558e+01, 7.77825451e+00, 2.86049909e+00, 1.95993556e+00,\n",
       "       1.46798624e+01, 1.48055003e+01, 8.21925267e+00, 3.11047279e+00,\n",
       "       1.65803302e+00, 1.96105996e+01, 5.43282506e+00, 1.30702997e+01,\n",
       "       1.05320127e+01, 1.59489634e+01, 1.61754861e+01, 9.39411317e-01,\n",
       "       4.97547582e+00, 1.13748476e+01, 2.74966436e+00, 8.73249994e+00,\n",
       "       6.34317279e+00, 1.37076763e+01, 1.98445723e+01, 1.05713324e+01])"
      ]
     },
     "execution_count": 3,
     "metadata": {},
     "output_type": "execute_result"
    }
   ],
   "source": [
    "x_list = 20 * np.random.rand(500)\n",
    "x_list.shape[0]\n",
    "x_list\n",
    "xx = np.array([x_list]).T"
   ]
  },
  {
   "cell_type": "code",
   "execution_count": 4,
   "id": "09bfc731",
   "metadata": {
    "scrolled": false
   },
   "outputs": [
    {
     "data": {
      "text/plain": [
       "198868.31129988475"
      ]
     },
     "execution_count": 4,
     "metadata": {},
     "output_type": "execute_result"
    }
   ],
   "source": [
    "def x_to_yList(xlist, f):\n",
    "    return [f(x) for x in xlist]\n",
    "\n",
    "y_list = x_to_yList(x_list, lambda x: 2.44 * x + (5.36 + gauss(0, 5)))\n",
    "# y_list\n",
    "np.inner(x_list, y_list)"
   ]
  },
  {
   "cell_type": "markdown",
   "id": "f2354ac8",
   "metadata": {},
   "source": [
    "### 原函数模型建立"
   ]
  },
  {
   "cell_type": "code",
   "execution_count": 5,
   "id": "880bbebf",
   "metadata": {},
   "outputs": [],
   "source": [
    "m = x_list.shape[0]\n",
    "def h(t0, t1, x):\n",
    "    r = t0 + t1 * x\n",
    "    return r"
   ]
  },
  {
   "cell_type": "markdown",
   "id": "676db190",
   "metadata": {},
   "source": [
    "### 构建代价函数"
   ]
  },
  {
   "cell_type": "code",
   "execution_count": 6,
   "id": "56aefcf6",
   "metadata": {},
   "outputs": [
    {
     "data": {
      "text/plain": [
       "583.1726203871251"
      ]
     },
     "execution_count": 6,
     "metadata": {},
     "output_type": "execute_result"
    }
   ],
   "source": [
    "def cost_f(t0, t1, x1, y1):\n",
    "    delta = t0 + t1 * x1 - y1\n",
    "    cost = np.inner(delta, delta) / (2 * m)\n",
    "    return cost\n",
    "\n",
    "cc0 = cost_f(t0 = 0.0, t1 = 0.0, x1 = x_list, y1 = y_list)\n",
    "cc0"
   ]
  },
  {
   "cell_type": "markdown",
   "id": "9aa8bcf3",
   "metadata": {},
   "source": [
    "### 代价函数偏导数计算"
   ]
  },
  {
   "cell_type": "code",
   "execution_count": 7,
   "id": "88d80ecb",
   "metadata": {},
   "outputs": [],
   "source": [
    "def de(t0, t1, _x, _y):\n",
    "    delta = t0 + t1 * _x - _y\n",
    "    de0 = np.inner(delta, np.ones(m)) / m\n",
    "    de1 = np.inner(x_list, delta) / m\n",
    "    return de0, de1"
   ]
  },
  {
   "cell_type": "markdown",
   "id": "1cd83a46",
   "metadata": {},
   "source": [
    "### 梯度下降法迭代"
   ]
  },
  {
   "cell_type": "code",
   "execution_count": 8,
   "id": "f43e0434",
   "metadata": {},
   "outputs": [
    {
     "data": {
      "text/plain": [
       "(5.1997945445866005, 2.463117767867946)"
      ]
     },
     "execution_count": 8,
     "metadata": {},
     "output_type": "execute_result"
    },
    {
     "data": {
      "text/plain": [
       "12.787019563183833"
      ]
     },
     "execution_count": 8,
     "metadata": {},
     "output_type": "execute_result"
    },
    {
     "data": {
      "text/plain": [
       "[<matplotlib.lines.Line2D at 0x7fd68d556340>]"
      ]
     },
     "execution_count": 8,
     "metadata": {},
     "output_type": "execute_result"
    },
    {
     "data": {
      "text/plain": [
       "<matplotlib.collections.PathCollection at 0x7fd68d5564f0>"
      ]
     },
     "execution_count": 8,
     "metadata": {},
     "output_type": "execute_result"
    },
    {
     "data": {
      "image/png": "[encoded data removed]",
      "text/plain": [
       "<Figure size 640x480 with 1 Axes>"
      ]
     },
     "metadata": {},
     "output_type": "display_data"
    }
   ],
   "source": [
    "def grad_decent(_theta0, _theta1, x, y, epoch, alpha):\n",
    "    for i in range(epoch):\n",
    "        cost1 = cost_f(t0 = _theta0, t1 = _theta1, x1 = x, y1 = y)\n",
    "        de0, de1 = de(t0 = _theta0, t1 = _theta1, _x = x, _y = y)\n",
    "        _theta0 = _theta0 - alpha * de0\n",
    "        _theta1 = _theta1 - alpha * de1\n",
    "        cost2 = cost_f(t0 = _theta0, t1 = _theta1, x1 = x, y1 = y)\n",
    "        if cost1 - cost2 < 1e-10:\n",
    "            break\n",
    "    return _theta0, _theta1\n",
    "\n",
    "\n",
    "theta0 = 0.0\n",
    "theta1 = 0.0\n",
    "qq = grad_decent(theta0, theta1, x = x_list, y = y_list, epoch = 1000000, alpha = 0.00001)\n",
    "theta0, theta1 = qq\n",
    "qq\n",
    "cost_func = cost_f(t0 = theta0, t1 = theta1, x1 = x_list, y1 = y_list)\n",
    "cost_func\n",
    "plt.plot(x_list, (theta0 + theta1 * x_list), color = 'red')\n",
    "plt.scatter(x_list, y_list, color = 'blue')"
   ]
  },
  {
   "cell_type": "code",
   "execution_count": null,
   "id": "db317acd",
   "metadata": {},
   "outputs": [],
   "source": []
  }
 ],
 "metadata": {
  "kernelspec": {
   "display_name": "Python 3 (ipykernel)",
   "language": "python",
   "name": "python3"
  },
  "language_info": {
   "codemirror_mode": {
    "name": "ipython",
    "version": 3
   },
   "file_extension": ".py",
   "mimetype": "text/x-python",
   "name": "python",
   "nbconvert_exporter": "python",
   "pygments_lexer": "ipython3",
   "version": "3.8.18"
  }
 },
 "nbformat": 4,
 "nbformat_minor": 5
}
